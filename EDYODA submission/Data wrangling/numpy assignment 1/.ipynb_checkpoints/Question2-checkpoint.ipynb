{
 "cells": [
  {
   "cell_type": "markdown",
   "id": "92717424",
   "metadata": {},
   "source": [
    "## Create a random vector of size 30 and find the mean value.\n"
   ]
  },
  {
   "cell_type": "code",
   "execution_count": 1,
   "id": "7c269158",
   "metadata": {},
   "outputs": [],
   "source": [
    "import numpy as np"
   ]
  },
  {
   "cell_type": "code",
   "execution_count": 2,
   "id": "406daa42",
   "metadata": {},
   "outputs": [],
   "source": [
    "arr=np.random.randint(low=0,high=30,size=(30,))"
   ]
  },
  {
   "cell_type": "code",
   "execution_count": 3,
   "id": "ec5c6214",
   "metadata": {},
   "outputs": [
    {
     "data": {
      "text/plain": [
       "array([ 8, 18, 25,  8, 29,  6, 29, 26, 24,  6, 18, 15,  4, 15, 16,  8, 18,\n",
       "        7, 26, 22, 16, 27, 20, 15,  2, 24, 22,  2, 24,  1])"
      ]
     },
     "execution_count": 3,
     "metadata": {},
     "output_type": "execute_result"
    }
   ],
   "source": [
    "arr"
   ]
  },
  {
   "cell_type": "code",
   "execution_count": 4,
   "id": "5ba7d2ac",
   "metadata": {},
   "outputs": [
    {
     "data": {
      "text/plain": [
       "16.033333333333335"
      ]
     },
     "execution_count": 4,
     "metadata": {},
     "output_type": "execute_result"
    }
   ],
   "source": [
    "arr.mean()"
   ]
  }
 ],
 "metadata": {
  "kernelspec": {
   "display_name": "Python 3 (ipykernel)",
   "language": "python",
   "name": "python3"
  },
  "language_info": {
   "codemirror_mode": {
    "name": "ipython",
    "version": 3
   },
   "file_extension": ".py",
   "mimetype": "text/x-python",
   "name": "python",
   "nbconvert_exporter": "python",
   "pygments_lexer": "ipython3",
   "version": "3.9.6"
  }
 },
 "nbformat": 4,
 "nbformat_minor": 5
}
