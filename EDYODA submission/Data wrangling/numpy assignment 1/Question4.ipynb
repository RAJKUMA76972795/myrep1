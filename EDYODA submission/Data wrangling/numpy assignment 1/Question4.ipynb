{
 "cells": [
  {
   "cell_type": "markdown",
   "id": "f99ff036",
   "metadata": {},
   "source": [
    "## Create a 10x10 array with random values and find the minimum and maximum values."
   ]
  },
  {
   "cell_type": "code",
   "execution_count": 1,
   "id": "127e624d",
   "metadata": {},
   "outputs": [],
   "source": [
    "import numpy as np"
   ]
  },
  {
   "cell_type": "code",
   "execution_count": 2,
   "id": "ebdd7c0e",
   "metadata": {},
   "outputs": [],
   "source": [
    "arr = np.random.rand(10,10)"
   ]
  },
  {
   "cell_type": "code",
   "execution_count": 3,
   "id": "042ba666",
   "metadata": {},
   "outputs": [
    {
     "data": {
      "text/plain": [
       "array([[0.76173829, 0.56822593, 0.07870691, 0.32299496, 0.788014  ,\n",
       "        0.01990955, 0.083063  , 0.47174595, 0.17509001, 0.06622845],\n",
       "       [0.1428042 , 0.45605142, 0.23926937, 0.45614959, 0.53784969,\n",
       "        0.86820701, 0.36126584, 0.62062501, 0.9150482 , 0.57944916],\n",
       "       [0.07862741, 0.42814519, 0.96797149, 0.89044159, 0.1126477 ,\n",
       "        0.26998982, 0.49593098, 0.00192463, 0.94812452, 0.43556753],\n",
       "       [0.11165697, 0.45945277, 0.95106097, 0.0156906 , 0.26146381,\n",
       "        0.95205935, 0.29556011, 0.64613556, 0.49763385, 0.47364119],\n",
       "       [0.49333556, 0.96101923, 0.75156195, 0.8396929 , 0.01605215,\n",
       "        0.36930558, 0.20712216, 0.85000643, 0.37103534, 0.293249  ],\n",
       "       [0.3816778 , 0.42381009, 0.66836724, 0.17697034, 0.80737166,\n",
       "        0.56651754, 0.03825139, 0.01015543, 0.53140855, 0.50352363],\n",
       "       [0.27810367, 0.60827398, 0.94885544, 0.16016052, 0.87488429,\n",
       "        0.9570493 , 0.27282052, 0.28080943, 0.142784  , 0.48087933],\n",
       "       [0.83446937, 0.97318977, 0.14011411, 0.26556228, 0.7268886 ,\n",
       "        0.86771049, 0.19423017, 0.80306048, 0.57216396, 0.65396482],\n",
       "       [0.29908988, 0.27425907, 0.17835953, 0.46635606, 0.57659995,\n",
       "        0.32427456, 0.67481513, 0.48382456, 0.44475816, 0.69014609],\n",
       "       [0.70294278, 0.49394811, 0.06380917, 0.11009358, 0.02907669,\n",
       "        0.33518665, 0.37547753, 0.0235066 , 0.91906365, 0.16007317]])"
      ]
     },
     "execution_count": 3,
     "metadata": {},
     "output_type": "execute_result"
    }
   ],
   "source": [
    "arr"
   ]
  },
  {
   "cell_type": "code",
   "execution_count": 4,
   "id": "699f18cc",
   "metadata": {},
   "outputs": [
    {
     "data": {
      "text/plain": [
       "0.001924632431026696"
      ]
     },
     "execution_count": 4,
     "metadata": {},
     "output_type": "execute_result"
    }
   ],
   "source": [
    "arr.min()"
   ]
  },
  {
   "cell_type": "code",
   "execution_count": 5,
   "id": "ca41562f",
   "metadata": {},
   "outputs": [
    {
     "data": {
      "text/plain": [
       "0.9731897698385592"
      ]
     },
     "execution_count": 5,
     "metadata": {},
     "output_type": "execute_result"
    }
   ],
   "source": [
    "arr.max()"
   ]
  }
 ],
 "metadata": {
  "kernelspec": {
   "display_name": "Python 3 (ipykernel)",
   "language": "python",
   "name": "python3"
  },
  "language_info": {
   "codemirror_mode": {
    "name": "ipython",
    "version": 3
   },
   "file_extension": ".py",
   "mimetype": "text/x-python",
   "name": "python",
   "nbconvert_exporter": "python",
   "pygments_lexer": "ipython3",
   "version": "3.9.6"
  }
 },
 "nbformat": 4,
 "nbformat_minor": 5
}
