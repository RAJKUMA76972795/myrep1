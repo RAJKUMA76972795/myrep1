{
 "cells": [
  {
   "cell_type": "markdown",
   "id": "8e682eaa",
   "metadata": {},
   "source": [
    "## Use numpy to generate array of 25 random numbers sampled from a standard normal distribution\n"
   ]
  },
  {
   "cell_type": "code",
   "execution_count": 2,
   "id": "4437e4bf",
   "metadata": {},
   "outputs": [],
   "source": [
    "import numpy as np"
   ]
  },
  {
   "cell_type": "code",
   "execution_count": 3,
   "id": "cabfe783",
   "metadata": {},
   "outputs": [
    {
     "data": {
      "text/plain": [
       "array([ 0.12714239, -0.30204357, -0.22174851, -1.01276187, -0.50080668,\n",
       "       -0.27468032,  0.76218703,  0.2788529 ,  1.34355548,  0.20094319,\n",
       "       -1.04299216, -1.68023739,  0.19715425,  0.42683366,  1.51506281,\n",
       "       -1.93465581,  0.08246515, -0.58766994,  0.37199504,  0.07333811,\n",
       "        0.03827074,  0.77622148,  0.43579434, -0.91283151,  0.86186765])"
      ]
     },
     "execution_count": 3,
     "metadata": {},
     "output_type": "execute_result"
    }
   ],
   "source": [
    "arr= np.random.randn(25)\n",
    "arr"
   ]
  }
 ],
 "metadata": {
  "kernelspec": {
   "display_name": "Python 3 (ipykernel)",
   "language": "python",
   "name": "python3"
  },
  "language_info": {
   "codemirror_mode": {
    "name": "ipython",
    "version": 3
   },
   "file_extension": ".py",
   "mimetype": "text/x-python",
   "name": "python",
   "nbconvert_exporter": "python",
   "pygments_lexer": "ipython3",
   "version": "3.9.6"
  }
 },
 "nbformat": 4,
 "nbformat_minor": 5
}
