{
 "cells": [
  {
   "cell_type": "markdown",
   "id": "oriental-resource",
   "metadata": {},
   "source": [
    "## Q1. Write a program to find all pairs of an integer array whose sum is equal to a given number?"
   ]
  },
  {
   "cell_type": "code",
   "execution_count": 1,
   "id": "controlling-trade",
   "metadata": {},
   "outputs": [
    {
     "name": "stdout",
     "output_type": "stream",
     "text": [
      "Enter a number  :6\n",
      "[0, 6] [1, 5] [2, 4] [3, 3] [4, 2] [5, 1] [6, 0] "
     ]
    }
   ],
   "source": [
    "number=int(input(\"Enter a number  :\"))\n",
    "\n",
    "for i in range(number+1):\n",
    "    pair=[]\n",
    "    pair.append(i)\n",
    "    pair.append(number-i)\n",
    "    print(pair,end=\" \")"
   ]
  },
  {
   "cell_type": "markdown",
   "id": "accepting-cleaner",
   "metadata": {},
   "source": [
    "## Q2. Write a program to reverse an array in place? In place means you cannot create a new array. You have to update the original array."
   ]
  },
  {
   "cell_type": "code",
   "execution_count": 2,
   "id": "annual-print",
   "metadata": {},
   "outputs": [
    {
     "name": "stdout",
     "output_type": "stream",
     "text": [
      "Enter elements of the array seperated by comma  r,a,j,k,u,m,a,r\n",
      "['r', 'a', 'm', 'u', 'k', 'j', 'a', 'r']\n"
     ]
    }
   ],
   "source": [
    "array=input(\"Enter elements of the array seperated by comma  \").split(\",\")\n",
    "\n",
    "for itemNo in range(len(array)//2):\n",
    "    temp=array[itemNo]\n",
    "    array[itemNo]=array[len(array)-itemNo-1]\n",
    "    array[len(array)-itemNo-1]=temp\n",
    "\n",
    "print(array)"
   ]
  },
  {
   "cell_type": "markdown",
   "id": "eleven-confidence",
   "metadata": {},
   "source": [
    "## Q3. Write a program to check if two strings are a rotation of each other?"
   ]
  },
  {
   "cell_type": "code",
   "execution_count": 3,
   "id": "sustained-villa",
   "metadata": {},
   "outputs": [
    {
     "name": "stdout",
     "output_type": "stream",
     "text": [
      "Enter a string  :rajkumar\n",
      "Enter another string  :kumarraj\n",
      "String2 is rotation of String1\n"
     ]
    }
   ],
   "source": [
    "string1=input(\"Enter a string  :\")\n",
    "string2=input(\"Enter another string  :\")\n",
    "\n",
    "if(string2 in string1*2):\n",
    "    print(\"String2 is rotation of String1\")\n",
    "else:\n",
    "    print(\"String2 is not rotation of string1\")"
   ]
  },
  {
   "cell_type": "markdown",
   "id": "large-indian",
   "metadata": {},
   "source": [
    "## Q4. Write a program to print the first non-repeated character from a string?"
   ]
  },
  {
   "cell_type": "code",
   "execution_count": 4,
   "id": "accepting-gnome",
   "metadata": {},
   "outputs": [
    {
     "name": "stdout",
     "output_type": "stream",
     "text": [
      "Enter a string  :rajkumar\n",
      "First non-repeated character in the string is j\n"
     ]
    }
   ],
   "source": [
    "string1=input(\"Enter a string  :\")\n",
    "\n",
    "print(\"First non-repeated character in the string is\",end=\" \")\n",
    "\n",
    "for letter in string1:\n",
    "    if (letter!=\" \"):\n",
    "        if(string1.count(letter)==1):\n",
    "            print(letter)\n",
    "            break\n",
    "else:\n",
    "    print(None)"
   ]
  },
  {
   "cell_type": "markdown",
   "id": "committed-highway",
   "metadata": {},
   "source": [
    "## Q5. Read about the Tower of Hanoi algorithm. Write a program to implement it.¶"
   ]
  },
  {
   "cell_type": "code",
   "execution_count": 5,
   "id": "quiet-basis",
   "metadata": {},
   "outputs": [
    {
     "name": "stdout",
     "output_type": "stream",
     "text": [
      "Enter the number of disks3\n",
      "Move disk 1 from rod A to rod C\n",
      "Move disk 2 from rod A to rod B\n",
      "Move disk 1 from rod C to rod B\n",
      "Move disk 3 from rod A to rod C\n",
      "Move disk 1 from rod B to rod A\n",
      "Move disk 2 from rod B to rod C\n",
      "Move disk 1 from rod A to rod C\n"
     ]
    }
   ],
   "source": [
    "def TowerOfHanoi(n , from_rod, to_rod, aux_rod):\n",
    "    if n == 1:\n",
    "        print(\"Move disk 1 from rod\",from_rod,\"to rod\",to_rod)\n",
    "        return\n",
    "    TowerOfHanoi(n-1, from_rod, aux_rod, to_rod)\n",
    "    print(\"Move disk\",n,\"from rod\",from_rod,\"to rod\",to_rod)\n",
    "    TowerOfHanoi(n-1, aux_rod, to_rod, from_rod)\n",
    "         \n",
    "\n",
    "n = int(input(\"Enter the number of disks\"))\n",
    "TowerOfHanoi(n, 'A', 'C', 'B')"
   ]
  },
  {
   "cell_type": "markdown",
   "id": "juvenile-bidder",
   "metadata": {},
   "source": [
    "## stack implementation"
   ]
  },
  {
   "cell_type": "code",
   "execution_count": 6,
   "id": "helpful-breach",
   "metadata": {},
   "outputs": [
    {
     "name": "stdout",
     "output_type": "stream",
     "text": [
      "40 -> 30 -> 20 -> 10 -> \n",
      "Popped 40\n",
      "30 -> 20 -> 10 -> \n",
      "Peeked 30\n",
      "30 -> 20 -> 10 -> \n",
      "[ERROR] : Stack is empty cannot pop\n"
     ]
    }
   ],
   "source": [
    "class Node:\n",
    "    def __init__(self, data):\n",
    "        self.data = data\n",
    "        self.next = None\n",
    "\n",
    "\n",
    "class Stack:\n",
    "    def __init__(self):\n",
    "        self.top = None\n",
    "\n",
    "    def is_empty(self):\n",
    "        return self.top is None\n",
    "\n",
    "    def push(self, node_value):\n",
    "        new_node = Node(node_value)\n",
    "        new_node.next = self.top\n",
    "        self.top = new_node\n",
    "\n",
    "    def pop(self):\n",
    "        if self.is_empty():\n",
    "            print(\"[ERROR] : Stack is empty cannot pop\")\n",
    "            return None\n",
    "        temp_node = self.top\n",
    "        self.top = self.top.next\n",
    "        return temp_node.data\n",
    "\n",
    "    def peek(self):\n",
    "        return self.top.data\n",
    "\n",
    "    def delete_stack(self):\n",
    "        self.top = None\n",
    "\n",
    "    def traverse(self):\n",
    "        curr_node = self.top\n",
    "        while curr_node is not None:\n",
    "            print(\"{}\".format(curr_node.data), end = \" -> \")\n",
    "            curr_node = curr_node.next\n",
    "        print(\"\")\n",
    "\n",
    "if __name__ == '__main__':\n",
    "    stack = Stack()\n",
    "    stack.push(10)\n",
    "    stack.push(20)\n",
    "    stack.push(30)\n",
    "    stack.push(40)\n",
    "    stack.traverse()\n",
    "    print(\"Popped {}\".format(stack.pop()))\n",
    "    stack.traverse()\n",
    "    print(\"Peeked {}\".format(stack.peek()))\n",
    "    stack.traverse()\n",
    "    stack.delete_stack()\n",
    "    stack.pop()\n"
   ]
  },
  {
   "cell_type": "markdown",
   "id": "mexican-facial",
   "metadata": {},
   "source": [
    "## Q6. Read about infix, prefix, and postfix expressions. Write a program to convert postfix to prefix expression."
   ]
  },
  {
   "cell_type": "code",
   "execution_count": 7,
   "id": "dietary-apartment",
   "metadata": {},
   "outputs": [
    {
     "name": "stdout",
     "output_type": "stream",
     "text": [
      "*-A/BC-/AKL\n"
     ]
    }
   ],
   "source": [
    "stack=Stack()\n",
    "\n",
    "def postfixToPrefix(postfixString):    \n",
    "    for letter in postfixString:\n",
    "        if letter not in [\"+\",\"-\",\"*\",\"/\"]:\n",
    "            stack.push(letter)\n",
    "        if letter in [\"+\",\"-\",\"*\",\"/\"]:\n",
    "            letter1=stack.pop()\n",
    "            letter2=stack.pop()\n",
    "            string1=letter+letter2+letter1\n",
    "            stack.push(string1)\n",
    "    return string1       \n",
    "print(postfixToPrefix(\"ABC/-AK/L-*\"))            "
   ]
  },
  {
   "cell_type": "markdown",
   "id": "guided-circumstances",
   "metadata": {},
   "source": [
    "## Q7. Write a program to convert prefix expression to infix expression."
   ]
  },
  {
   "cell_type": "code",
   "execution_count": 8,
   "id": "metropolitan-seller",
   "metadata": {},
   "outputs": [
    {
     "name": "stdout",
     "output_type": "stream",
     "text": [
      "((A+B)*(C-D))\n"
     ]
    }
   ],
   "source": [
    "stack=Stack()\n",
    "\n",
    "def prefixToInfix(prefixString):\n",
    "    prefixString1=prefixString[::-1]\n",
    "    for letter in prefixString1:\n",
    "        if letter not in [\"+\",\"-\",\"*\",\"/\"]:\n",
    "            stack.push(letter)\n",
    "        if letter in [\"+\",\"-\",\"*\",\"/\"]:\n",
    "            letter1=stack.pop()\n",
    "            letter2=stack.pop()\n",
    "            string1=\"(\" + letter1+letter+letter2 + \")\"\n",
    "            stack.push(string1)\n",
    "    return string1     \n",
    "print(prefixToInfix(\"*+AB-CD\"))        "
   ]
  },
  {
   "cell_type": "markdown",
   "id": "outdoor-friendly",
   "metadata": {},
   "source": [
    "## Q8. Write a program to check if all the brackets are closed in a given code snippet."
   ]
  },
  {
   "cell_type": "code",
   "execution_count": 9,
   "id": "gentle-improvement",
   "metadata": {},
   "outputs": [
    {
     "name": "stdout",
     "output_type": "stream",
     "text": [
      "All Good !!!!\n",
      "String NOT proper\n",
      "All Good !!!!\n",
      "All Good !!!!\n"
     ]
    }
   ],
   "source": [
    "def check_brackets_in_str(str):\n",
    "    stack = Stack() # [{}]\n",
    "    for c in str:\n",
    "        if c in [\"[\", \"{\", \"(\"]:\n",
    "            stack.push(c)\n",
    "        elif (c in [\"]\",\"}\",\")\"]):\n",
    "            if stack.is_empty():\n",
    "                print(\"String NOT proper\")\n",
    "                return\n",
    "            c_from_stack = stack.pop()\n",
    "            if c_from_stack==\"[\" and c!= \"]\":\n",
    "                print(\"String NOT proper\")\n",
    "                return\n",
    "            if c_from_stack==\"{\" and c!= \"}\":\n",
    "                print(\"String NOT proper\")\n",
    "                return\n",
    "            if c_from_stack==\"(\" and c!=\")\":\n",
    "                print(\"String NOT proper\")\n",
    "                return\n",
    "    if stack.is_empty():\n",
    "        print(\"All Good !!!!\")\n",
    "    else:\n",
    "        print(\"String NOT proper\")\n",
    "\n",
    "\n",
    "\n",
    "check_brackets_in_str(\"[{()}]\")\n",
    "check_brackets_in_str(\"[{()}]]\")\n",
    "check_brackets_in_str(\"[2*{4/2(2)}]\")\n",
    "check_brackets_in_str(\"list(map(int,input().split(',')))\")"
   ]
  },
  {
   "cell_type": "markdown",
   "id": "racial-insight",
   "metadata": {},
   "source": [
    "## Q9. Write a program to reverse a stack."
   ]
  },
  {
   "cell_type": "code",
   "execution_count": 10,
   "id": "professional-lecture",
   "metadata": {},
   "outputs": [
    {
     "name": "stdout",
     "output_type": "stream",
     "text": [
      "40 -> 30 -> 20 -> 10 -> \n",
      "10 -> 20 -> 30 -> 40 -> \n"
     ]
    }
   ],
   "source": [
    "def reverseStack(stack):\n",
    "    newStack=Stack()\n",
    "    curr_node=stack.top\n",
    "    while curr_node is not None:\n",
    "            newStack.push(curr_node.data)\n",
    "            curr_node = curr_node.next\n",
    "    return newStack\n",
    "stack = Stack()\n",
    "stack.push(10)\n",
    "stack.push(20)\n",
    "stack.push(30)\n",
    "stack.push(40)\n",
    "stack.traverse()\n",
    "newStack=reverseStack(stack)\n",
    "newStack.traverse()    "
   ]
  },
  {
   "cell_type": "markdown",
   "id": "short-worse",
   "metadata": {},
   "source": [
    "## Q10. Write a program to find the smallest number using a stack."
   ]
  },
  {
   "cell_type": "code",
   "execution_count": 11,
   "id": "approximate-preparation",
   "metadata": {},
   "outputs": [
    {
     "name": "stdout",
     "output_type": "stream",
     "text": [
      "-10 -> 30 -> 5 -> 10 -> \n",
      "-10\n"
     ]
    }
   ],
   "source": [
    "def smallestNumber(stack):\n",
    "    curr_node=stack.top\n",
    "    min=curr_node.data\n",
    "    while curr_node is not None:\n",
    "            if (curr_node.data<min):\n",
    "                min=curr_node.data\n",
    "            curr_node = curr_node.next\n",
    "    return min\n",
    "stack = Stack()\n",
    "stack.push(10)\n",
    "stack.push(5)\n",
    "stack.push(30)\n",
    "stack.push(-10)\n",
    "stack.traverse()\n",
    "print(smallestNumber(stack))"
   ]
  }
 ],
 "metadata": {
  "kernelspec": {
   "display_name": "Python 3",
   "language": "python",
   "name": "python3"
  },
  "language_info": {
   "codemirror_mode": {
    "name": "ipython",
    "version": 3
   },
   "file_extension": ".py",
   "mimetype": "text/x-python",
   "name": "python",
   "nbconvert_exporter": "python",
   "pygments_lexer": "ipython3",
   "version": "3.8.3"
  }
 },
 "nbformat": 4,
 "nbformat_minor": 5
}
