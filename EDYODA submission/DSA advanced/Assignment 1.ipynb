{
 "cells": [
  {
   "cell_type": "markdown",
   "id": "916bba6a",
   "metadata": {},
   "source": [
    "# 1.Write Linear Search Algorithm"
   ]
  },
  {
   "cell_type": "code",
   "execution_count": 2,
   "id": "2fc32990",
   "metadata": {},
   "outputs": [
    {
     "name": "stdout",
     "output_type": "stream",
     "text": [
      "1\n",
      "-1\n"
     ]
    }
   ],
   "source": [
    "# Linear search algorithm\n",
    "'''Start from the leftmost element of the given arr[] and one by one compare the given number with each element of the arr[]\n",
    "If the given number matches with an element, return the index.\n",
    "If the given number doesn’t match with any of elements, return -1.'''\n",
    "\n",
    "# code\n",
    "def linSearch(arr, number): \n",
    "    for i in range(len(arr)):\n",
    "        if (arr[i] == number):\n",
    "            return i\n",
    "    return -1\n",
    "\n",
    "arr=[2,5,7,4,3]\n",
    "number=5\n",
    "print(linSearch(arr,number))\n",
    "number=10\n",
    "print(linSearch(arr,number))"
   ]
  },
  {
   "cell_type": "markdown",
   "id": "9e69775d",
   "metadata": {},
   "source": [
    "# 2.Write Binary Search Algorithm"
   ]
  },
  {
   "cell_type": "code",
   "execution_count": 2,
   "id": "c59678da",
   "metadata": {},
   "outputs": [
    {
     "name": "stdout",
     "output_type": "stream",
     "text": [
      "6\n",
      "-1\n"
     ]
    }
   ],
   "source": [
    "#Binary Search Algorithm\n",
    "'''\n",
    "1.Compare the given number with the middle element of the given array.\n",
    "2.If the given element matches with the middle element of the array, we return the mid index.\n",
    "3.Else If the given number is greater than the mid element, then the given number can only lie in the right half subarray after the mid element. So we check for the right half.\n",
    "4.Else (the given number is smaller) check for the left half.'''\n",
    "\n",
    "# code\n",
    "def binarySearch(arr,element):\n",
    "    low=0\n",
    "    high=len(arr)-1\n",
    "\n",
    "    while(low <= high):\n",
    "        mid=(low+high)//2\n",
    "        if arr[mid]==element:\n",
    "            return mid\n",
    "        if arr[mid]>element:\n",
    "            high=mid-1\n",
    "        else:\n",
    "            low=mid+1\n",
    "    return -1\n",
    "\n",
    "arr=[1,5,8,9,10,12,45,89,123,126]\n",
    "number=45\n",
    "print(binarySearch(arr,number))\n",
    "number=39\n",
    "print(binarySearch(arr,number))"
   ]
  },
  {
   "cell_type": "markdown",
   "id": "6449428b",
   "metadata": {},
   "source": [
    "# 3.Implement a dictionary sort using bubble sort"
   ]
  },
  {
   "cell_type": "code",
   "execution_count": 6,
   "id": "78ad130d",
   "metadata": {},
   "outputs": [
    {
     "data": {
      "text/plain": [
       "{1: 'a', 2: 'd', 4: 'c', 21: 'e', 25: 'b'}"
      ]
     },
     "execution_count": 6,
     "metadata": {},
     "output_type": "execute_result"
    }
   ],
   "source": [
    "# bubble sort\n",
    "def bubbleSort(arr):\n",
    "    arrKey=list(arr.keys())\n",
    "    for i in range(len(arrKey)):         \n",
    "        for j in range(0, len(arrKey)-i-1):                \n",
    "            if arrKey[j] > arrKey[j+1] :\n",
    "                arrKey[j], arrKey[j+1] = arrKey[j+1], arrKey[j]\n",
    "                \n",
    "    myarr={}\n",
    "    for key in arrKey:\n",
    "        myarr[key]=arr[key]\n",
    "    return myarr    \n",
    "                    \n",
    "mydict={1:\"a\",25:\"b\",4:\"c\",2:\"d\",21:\"e\"}\n",
    "bubbleSort(mydict)\n",
    "# print(mydict)"
   ]
  },
  {
   "cell_type": "markdown",
   "id": "fd2d7d10",
   "metadata": {},
   "source": [
    "# 4.Sort an array of numbers using insertion sort"
   ]
  },
  {
   "cell_type": "code",
   "execution_count": 7,
   "id": "1df2b340",
   "metadata": {},
   "outputs": [
    {
     "name": "stdout",
     "output_type": "stream",
     "text": [
      "[1, 2, 4, 21, 25]\n"
     ]
    }
   ],
   "source": [
    "def insertionSort(arr):    \n",
    "    for i in range(1, len(arr)): \n",
    "        key = arr[i] \n",
    "        j = i-1\n",
    "        while j >= 0 and key < arr[j] :\n",
    "                arr[j + 1] = arr[j]\n",
    "                j -= 1\n",
    "        arr[j + 1] = key\n",
    "        \n",
    "arr=[1,25,4,2,21]\n",
    "insertionSort(arr)\n",
    "print(arr)"
   ]
  },
  {
   "cell_type": "markdown",
   "id": "7cb58471",
   "metadata": {},
   "source": [
    "# 5.Sort an array of numbers using selection sort"
   ]
  },
  {
   "cell_type": "code",
   "execution_count": 8,
   "id": "0c15beb0",
   "metadata": {},
   "outputs": [
    {
     "name": "stdout",
     "output_type": "stream",
     "text": [
      "[1, 2, 4, 21, 25]\n"
     ]
    }
   ],
   "source": [
    "def selectionSort(arr):\n",
    "    for i in range(len(arr)):\n",
    "        min_idx = i\n",
    "        for j in range(i+1, len(arr)):\n",
    "            if arr[min_idx] > arr[j]:\n",
    "                min_idx = j\n",
    "        arr[i], arr[min_idx] = arr[min_idx], arr[i]\n",
    "        \n",
    "arr=[1,25,4,2,21]\n",
    "selectionSort(arr)\n",
    "print(arr)        "
   ]
  }
 ],
 "metadata": {
  "kernelspec": {
   "display_name": "Python 3 (ipykernel)",
   "language": "python",
   "name": "python3"
  },
  "language_info": {
   "codemirror_mode": {
    "name": "ipython",
    "version": 3
   },
   "file_extension": ".py",
   "mimetype": "text/x-python",
   "name": "python",
   "nbconvert_exporter": "python",
   "pygments_lexer": "ipython3",
   "version": "3.9.6"
  }
 },
 "nbformat": 4,
 "nbformat_minor": 5
}
